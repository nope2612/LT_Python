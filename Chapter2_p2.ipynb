{
 "cells": [
  {
   "cell_type": "markdown",
   "id": "433ec341",
   "metadata": {},
   "source": [
    "## Exercise 1 — Even or Odd"
   ]
  },
  {
   "cell_type": "code",
   "execution_count": null,
   "id": "66975033",
   "metadata": {},
   "outputs": [],
   "source": [
    "n = int(input(\"Enter a positive integer: \"))\n",
    "if n % 2 == 0:\n",
    "    print(\"This is an even number.\")\n",
    "else:\n",
    "    print(\"This is an odd number.\")"
   ]
  },
  {
   "cell_type": "markdown",
   "id": "de5ff403",
   "metadata": {},
   "source": [
    "## Exercise 2 — String Case Check"
   ]
  },
  {
   "cell_type": "code",
   "execution_count": null,
   "id": "a3959f0a",
   "metadata": {},
   "outputs": [],
   "source": [
    "s = input(\"Enter a string: \")\n",
    "if s.isupper():\n",
    "    print(\"Uppercase string.\")\n",
    "elif s.islower():\n",
    "    print(\"Lowercase string.\")\n",
    "else:\n",
    "    print(\"String contains both uppercase and lowercase characters.\")"
   ]
  },
  {
   "cell_type": "markdown",
   "id": "adb515a4",
   "metadata": {},
   "source": [
    "## Exercise 3 — Find Substring"
   ]
  },
  {
   "cell_type": "code",
   "execution_count": null,
   "id": "80775612",
   "metadata": {},
   "outputs": [],
   "source": [
    "st = input(\"Enter main string: \")\n",
    "st_search = input(\"Enter substring to search: \")\n",
    "idx = st.find(st_search)\n",
    "if idx != -1:\n",
    "    print(f\"Found at position: {idx}\")\n",
    "else:\n",
    "    print(\"Not found.\")"
   ]
  },
  {
   "cell_type": "markdown",
   "id": "c64cda40",
   "metadata": {},
   "source": [
    "## Exercise 4 — Find Largest Number"
   ]
  },
  {
   "cell_type": "code",
   "execution_count": null,
   "id": "33bb27c2",
   "metadata": {},
   "outputs": [],
   "source": [
    "a = float(input(\"Enter first number: \"))\n",
    "b = float(input(\"Enter second number: \"))\n",
    "c = float(input(\"Enter third number: \"))\n",
    "print(f\"The largest number is {max(a, b, c)}\")"
   ]
  },
  {
   "cell_type": "markdown",
   "id": "ec5356ed",
   "metadata": {},
   "source": [
    "## Exercise 5 — Series Sum (i/(i+1))"
   ]
  },
  {
   "cell_type": "code",
   "execution_count": null,
   "id": "3d424e6a",
   "metadata": {},
   "outputs": [],
   "source": [
    "n = int(input(\"Enter integer greater than 0: \"))\n",
    "s = sum(i/(i+1) for i in range(1, n+1))\n",
    "print(s)"
   ]
  },
  {
   "cell_type": "markdown",
   "id": "62fe5cde",
   "metadata": {},
   "source": [
    "## Exercise 6 — Count Uppercase and Lowercase"
   ]
  },
  {
   "cell_type": "code",
   "execution_count": null,
   "id": "b8e4d319",
   "metadata": {},
   "outputs": [],
   "source": [
    "s = input(\"Enter a sentence: \")\n",
    "upper = sum(1 for c in s if c.isupper())\n",
    "lower = sum(1 for c in s if c.islower())\n",
    "print(f\"Uppercase letters: {upper}\")\n",
    "print(f\"Lowercase letters: {lower}\")"
   ]
  },
  {
   "cell_type": "markdown",
   "id": "75fbaea9",
   "metadata": {},
   "source": [
    "## Exercise 7 — Armstrong Number Check"
   ]
  },
  {
   "cell_type": "code",
   "execution_count": null,
   "id": "60217ada",
   "metadata": {},
   "outputs": [],
   "source": [
    "num = int(input(\"Enter a number: \"))\n",
    "power = int(input(\"Enter power (order): \"))\n",
    "total = sum(int(d)**power for d in str(abs(num)))\n",
    "if total == num:\n",
    "    print(f\"{num} is an Armstrong number of order {power}.\")\n",
    "else:\n",
    "    print(f\"{num} is not an Armstrong number of order {power}.\")"
   ]
  },
  {
   "cell_type": "markdown",
   "id": "3cc01cc6",
   "metadata": {},
   "source": [
    "## Exercise 8 — Remove Symbols"
   ]
  },
  {
   "cell_type": "code",
   "execution_count": 2,
   "id": "dc62d19d",
   "metadata": {},
   "outputs": [
    {
     "name": "stdout",
     "output_type": "stream",
     "text": [
      "dfsfdsfdfsda0\n"
     ]
    }
   ],
   "source": [
    "symbols = \"!()-[]{};:'\\\",<>./?@#$%^&*_~ \"\n",
    "text = input(\"Enter a string: \")\n",
    "cleaned = ''.join(ch for ch in text if ch not in symbols)\n",
    "print(cleaned)"
   ]
  },
  {
   "cell_type": "markdown",
   "id": "ae264574",
   "metadata": {},
   "source": [
    "## Exercise 9 — Sort Words Alphabetically"
   ]
  },
  {
   "cell_type": "code",
   "execution_count": null,
   "id": "9cfe7641",
   "metadata": {},
   "outputs": [],
   "source": [
    "text = input(\"Enter a sentence: \")\n",
    "words = text.split()\n",
    "words.sort(key=lambda x: x.lower())\n",
    "print(\"Words sorted alphabetically:\")\n",
    "for w in words:\n",
    "    print(w)"
   ]
  },
  {
   "cell_type": "markdown",
   "id": "42e6d80b",
   "metadata": {},
   "source": [
    "## Exercise 10 — Average of Input Numbers"
   ]
  },
  {
   "cell_type": "code",
   "execution_count": null,
   "id": "1ded7cb0",
   "metadata": {},
   "outputs": [],
   "source": [
    "total = 0.0\n",
    "count = 0\n",
    "while True:\n",
    "    s = input(\"Enter a number (or 'done' to finish): \")\n",
    "    if s.strip().lower() == 'done':\n",
    "        break\n",
    "    try:\n",
    "        v = float(s)\n",
    "    except:\n",
    "        print(\"Invalid input, try again.\")\n",
    "        continue\n",
    "    total += v\n",
    "    count += 1\n",
    "if count:\n",
    "    print(\"Average is:\", total / count)\n",
    "else:\n",
    "    print(\"No numbers entered.\")"
   ]
  },
  {
   "cell_type": "markdown",
   "id": "cd6e117e",
   "metadata": {},
   "source": [
    "## Exercise 11 — Average from User List"
   ]
  },
  {
   "cell_type": "code",
   "execution_count": null,
   "id": "255f62f9",
   "metadata": {},
   "outputs": [],
   "source": [
    "nums = []\n",
    "while True:\n",
    "    s = input(\"Enter a number (or 'done'): \")\n",
    "    if s.strip().lower() == 'done':\n",
    "        break\n",
    "    try:\n",
    "        nums.append(float(s))\n",
    "    except:\n",
    "        print(\"Invalid number, skip.\")\n",
    "if nums:\n",
    "    print(\"Average:\", sum(nums)/len(nums))\n",
    "    print(nums)\n",
    "else:\n",
    "    print(\"No numbers entered.\")"
   ]
  },
  {
   "cell_type": "markdown",
   "id": "750ec984",
   "metadata": {},
   "source": [
    "## Exercise 12 — Divisible by 7 but not 5"
   ]
  },
  {
   "cell_type": "code",
   "execution_count": null,
   "id": "481fac8a",
   "metadata": {},
   "outputs": [],
   "source": [
    "res = [str(i) for i in range(2000, 3201) if i%7==0 and i%5!=0]\n",
    "print(','.join(res))"
   ]
  },
  {
   "cell_type": "markdown",
   "id": "909c3525",
   "metadata": {},
   "source": [
    "## Exercise 13 — Uppercase Input Lines"
   ]
  },
  {
   "cell_type": "code",
   "execution_count": null,
   "id": "c58a5c79",
   "metadata": {},
   "outputs": [],
   "source": [
    "print(\"Enter lines (empty line to finish):\")\n",
    "lines = []\n",
    "while True:\n",
    "    s = input()\n",
    "    if s == '':\n",
    "        break\n",
    "    lines.append(s.upper())\n",
    "for line in lines:\n",
    "    print(line)"
   ]
  },
  {
   "cell_type": "markdown",
   "id": "f8eec675",
   "metadata": {},
   "source": [
    "## Exercise 14 — All Even Digits between 100 and 300"
   ]
  },
  {
   "cell_type": "code",
   "execution_count": null,
   "id": "1e79a4e3",
   "metadata": {},
   "outputs": [],
   "source": [
    "vals = []\n",
    "for i in range(100, 301):\n",
    "    s = str(i)\n",
    "    if all(int(ch)%2==0 for ch in s):\n",
    "        vals.append(s)\n",
    "print(','.join(vals))"
   ]
  },
  {
   "cell_type": "markdown",
   "id": "f10cb94a",
   "metadata": {},
   "source": [
    "## Exercise 15 — List and Tuple from Input"
   ]
  },
  {
   "cell_type": "code",
   "execution_count": null,
   "id": "c77b6a83",
   "metadata": {},
   "outputs": [],
   "source": [
    "s = input(\"Enter comma-separated numbers: \")\n",
    "items = [x.strip() for x in s.split(',') if x.strip()]\n",
    "print(items)\n",
    "print(tuple(items))"
   ]
  },
  {
   "cell_type": "markdown",
   "id": "2b135ef4",
   "metadata": {},
   "source": [
    "## Exercise 16 — Dictionary of Squares"
   ]
  },
  {
   "cell_type": "code",
   "execution_count": null,
   "id": "6643dec5",
   "metadata": {},
   "outputs": [],
   "source": [
    "n = int(input(\"Enter n: \"))\n",
    "d = {i: i*i for i in range(1, n+1)}\n",
    "print(d)"
   ]
  },
  {
   "cell_type": "markdown",
   "id": "6aca556d",
   "metadata": {},
   "source": [
    "## Exercise 17 — Count Letters and Digits"
   ]
  },
  {
   "cell_type": "code",
   "execution_count": null,
   "id": "23d978c2",
   "metadata": {},
   "outputs": [],
   "source": [
    "s = input(\"Enter a string: \")\n",
    "letters = sum(1 for ch in s if ch.isalpha())\n",
    "digits = sum(1 for ch in s if ch.isdigit())\n",
    "print(\"Letters:\", letters)\n",
    "print(\"Digits:\", digits)"
   ]
  },
  {
   "cell_type": "markdown",
   "id": "f55eff4e",
   "metadata": {},
   "source": [
    "## Exercise 18 — Count Upper and Lower"
   ]
  },
  {
   "cell_type": "code",
   "execution_count": null,
   "id": "521adafd",
   "metadata": {},
   "outputs": [],
   "source": [
    "s = input(\"Enter a string: \")\n",
    "upper = sum(1 for ch in s if ch.isupper())\n",
    "lower = sum(1 for ch in s if ch.islower())\n",
    "print(\"Uppercase:\", upper)\n",
    "print(\"Lowercase:\", lower)"
   ]
  },
  {
   "cell_type": "markdown",
   "id": "e1c3cc9f",
   "metadata": {},
   "source": [
    "## Exercise 19 — Word Frequency in File"
   ]
  },
  {
   "cell_type": "code",
   "execution_count": null,
   "id": "19143c3a",
   "metadata": {},
   "outputs": [],
   "source": [
    "fname = input(\"Enter filename (default 'romeo.txt'): \") or 'romeo.txt'\n",
    "try:\n",
    "    with open(fname, 'r', encoding='utf-8') as f:\n",
    "        text = f.read()\n",
    "except FileNotFoundError:\n",
    "    print(\"File not found.\")\n",
    "else:\n",
    "    words = text.split()\n",
    "    freq = {}\n",
    "    for w in words:\n",
    "        freq[w] = freq.get(w, 0) + 1\n",
    "    top10 = sorted(freq.items(), key=lambda kv: kv[1], reverse=True)[:10]\n",
    "    for word, count in top10:\n",
    "        print(word, count)"
   ]
  },
  {
   "cell_type": "markdown",
   "id": "d08f9534",
   "metadata": {},
   "source": [
    "## Exercise 20 — Factorial (Recursion)"
   ]
  },
  {
   "cell_type": "code",
   "execution_count": null,
   "id": "f1356fb1",
   "metadata": {},
   "outputs": [],
   "source": [
    "x = int(input(\"Enter number to factorial: \"))\n",
    "def fact(n):\n",
    "    return 1 if n==0 else n * fact(n-1)\n",
    "print(f\"Factorial of {x} is {fact(x)}\")"
   ]
  },
  {
   "cell_type": "markdown",
   "id": "867da1ca",
   "metadata": {},
   "source": [
    "## Exercise 21 — List of Squares"
   ]
  },
  {
   "cell_type": "code",
   "execution_count": null,
   "id": "b3fafba0",
   "metadata": {},
   "outputs": [],
   "source": [
    "squares = [i**2 for i in range(1, 21)]\n",
    "print(squares)\n"
   ]
  },
  {
   "cell_type": "markdown",
   "id": "90916df7",
   "metadata": {},
   "source": [
    "## Exercise 22 — First and Last 5 Squares"
   ]
  },
  {
   "cell_type": "code",
   "execution_count": null,
   "id": "a8f39d2a",
   "metadata": {},
   "outputs": [],
   "source": [
    "squares = [i**2 for i in range(1, 21)]\n",
    "print(\"First 5 and last 5 squares:\", squares[:5] + squares[-5:])\n"
   ]
  },
  {
   "cell_type": "markdown",
   "id": "baf573f6",
   "metadata": {},
   "source": [
    "## Exercise 23 — Check Even Function"
   ]
  },
  {
   "cell_type": "code",
   "execution_count": null,
   "id": "1d1a0e80",
   "metadata": {},
   "outputs": [],
   "source": [
    "def check_even(x):\n",
    "    print(x, \"is even\" if x % 2 == 0 else \"is odd\")\n",
    "\n",
    "n = int(input(\"Enter number to check: \"))\n",
    "check_even(n)\n"
   ]
  },
  {
   "cell_type": "markdown",
   "id": "e869b55a",
   "metadata": {},
   "source": [
    "## Exercise 24 — Longer String"
   ]
  },
  {
   "cell_type": "code",
   "execution_count": null,
   "id": "22b80d26",
   "metadata": {},
   "outputs": [],
   "source": [
    "a = input(\"Enter first string: \")\n",
    "b = input(\"Enter second string: \")\n",
    "\n",
    "if len(a) > len(b):\n",
    "    print(\"Longer string:\", a)\n",
    "elif len(b) > len(a):\n",
    "    print(\"Longer string:\", b)\n",
    "else:\n",
    "    print(a)\n",
    "    print(b)\n"
   ]
  },
  {
   "cell_type": "markdown",
   "id": "d4c1ed26",
   "metadata": {},
   "source": [
    "## Exercise 25 — Dictionary Operations"
   ]
  },
  {
   "cell_type": "code",
   "execution_count": null,
   "id": "691e5a80",
   "metadata": {},
   "outputs": [],
   "source": [
    "def make_dict(maxv):\n",
    "    return {i: i*i for i in range(1, maxv + 1)}\n",
    "\n",
    "def print_items(d):\n",
    "    for k, v in d.items():\n",
    "        print(k, v)\n",
    "\n",
    "def print_keys(d):\n",
    "    for k in d.keys():\n",
    "        print(k)\n",
    "\n",
    "def print_values(d):\n",
    "    for v in d.values():\n",
    "        print(v)\n",
    "\n",
    "m = int(input(\"Enter Max: \"))\n",
    "d = make_dict(m)\n",
    "print_items(d)\n",
    "print_keys(d)\n",
    "print_values(d)\n"
   ]
  },
  {
   "cell_type": "markdown",
   "id": "e62d461a",
   "metadata": {},
   "source": [
    "## Exercise 26 — Vowel or Consonant"
   ]
  },
  {
   "cell_type": "code",
   "execution_count": null,
   "id": "48f8b125",
   "metadata": {},
   "outputs": [],
   "source": [
    "ch = input(\"Enter a single letter: \").lower()\n",
    "if ch in 'aeiou':\n",
    "    print(\"Vowel\")\n",
    "elif ch == 'y':\n",
    "    print(\"Sometimes vowel, sometimes consonant\")\n",
    "else:\n",
    "    print(\"Consonant\")\n"
   ]
  },
  {
   "cell_type": "markdown",
   "id": "ae484e9f",
   "metadata": {},
   "source": [
    "## Exercise 27 — Polygon Name by Sides"
   ]
  },
  {
   "cell_type": "code",
   "execution_count": null,
   "id": "2614b42f",
   "metadata": {},
   "outputs": [],
   "source": [
    "mapping = {\n",
    "    3: 'triangle', 4: 'quadrilateral', 5: 'pentagon',\n",
    "    6: 'hexagon', 7: 'heptagon', 8: 'octagon',\n",
    "    9: 'nonagon', 10: 'decagon'\n",
    "}\n",
    "n = int(input(\"Enter number of sides (3–10): \"))\n",
    "print(mapping.get(n, \"Unsupported number of sides\"))\n"
   ]
  },
  {
   "cell_type": "markdown",
   "id": "752745cb",
   "metadata": {},
   "source": [
    "## Exercise 28 — Days in Month"
   ]
  },
  {
   "cell_type": "code",
   "execution_count": null,
   "id": "6295f87b",
   "metadata": {},
   "outputs": [],
   "source": [
    "m = input(\"Enter month name or number: \").strip().lower()\n",
    "months_31 = {'1','3','5','7','8','10','12','january','march','may','july','august','october','december'}\n",
    "months_30 = {'4','6','9','11','april','june','september','november'}\n",
    "\n",
    "if m in months_31:\n",
    "    print(\"31 days\")\n",
    "elif m in months_30:\n",
    "    print(\"30 days\")\n",
    "else:\n",
    "    year = input(\"Enter year (optional, for February): \")\n",
    "    if not year.strip():\n",
    "        print(\"28 or 29 days (February)\")\n",
    "    else:\n",
    "        y = int(year)\n",
    "        if (y % 400 == 0) or (y % 4 == 0 and y % 100 != 0):\n",
    "            print(\"29 days\")\n",
    "        else:\n",
    "            print(\"28 days\")\n"
   ]
  },
  {
   "cell_type": "markdown",
   "id": "5634ff36",
   "metadata": {},
   "source": [
    "## Exercise 29 — Triangle Type"
   ]
  },
  {
   "cell_type": "code",
   "execution_count": null,
   "id": "95b7ec50",
   "metadata": {},
   "outputs": [],
   "source": [
    "a = float(input(\"Side a: \"))\n",
    "b = float(input(\"Side b: \"))\n",
    "c = float(input(\"Side c: \"))\n",
    "\n",
    "if a + b <= c or a + c <= b or b + c <= a:\n",
    "    print(\"Not a triangle\")\n",
    "elif a == b == c:\n",
    "    print(\"Equilateral triangle\")\n",
    "elif a == b or b == c or a == c:\n",
    "    print(\"Isosceles triangle\")\n",
    "else:\n",
    "    print(\"Scalene triangle\")\n"
   ]
  },
  {
   "cell_type": "markdown",
   "id": "4f9dde99",
   "metadata": {},
   "source": [
    "## Exercise 30 — Leap Year Check"
   ]
  },
  {
   "cell_type": "code",
   "execution_count": null,
   "id": "7c3a1ecd",
   "metadata": {},
   "outputs": [],
   "source": [
    "y = int(input(\"Enter year: \"))\n",
    "if (y % 400 == 0) or (y % 4 == 0 and y % 100 != 0):\n",
    "    print(\"Leap year\")\n",
    "else:\n",
    "    print(\"Not a leap year\")\n"
   ]
  },
  {
   "cell_type": "markdown",
   "id": "8b0b9113",
   "metadata": {},
   "source": [
    "## Exercise 31 — Caesar Cipher (Encrypt)"
   ]
  },
  {
   "cell_type": "code",
   "execution_count": null,
   "id": "4c13e049",
   "metadata": {},
   "outputs": [],
   "source": [
    "msg = input(\"Enter message: \")\n",
    "shift = 3\n",
    "result = \"\"\n",
    "for ch in msg:\n",
    "    if ch.isalpha():\n",
    "        base = ord('A') if ch.isupper() else ord('a')\n",
    "        result += chr((ord(ch) - base + shift) % 26 + base)\n",
    "    else:\n",
    "        result += ch\n",
    "print(result)\n"
   ]
  },
  {
   "cell_type": "markdown",
   "id": "b7db304d",
   "metadata": {},
   "source": [
    "## Exercise 32 — Caesar Cipher (Encrypt/Decrypt)"
   ]
  },
  {
   "cell_type": "code",
   "execution_count": null,
   "id": "0f3a1648",
   "metadata": {},
   "outputs": [],
   "source": [
    "mode = input(\"Type 'e' to encrypt or 'd' to decrypt: \").lower()\n",
    "shift = int(input(\"Shift amount: \"))\n",
    "msg = input(\"Enter message: \")\n",
    "result = \"\"\n",
    "\n",
    "if mode == 'd':\n",
    "    shift = -shift\n",
    "\n",
    "for ch in msg:\n",
    "    if ch.isalpha():\n",
    "        base = ord('A') if ch.isupper() else ord('a')\n",
    "        result += chr((ord(ch) - base + shift) % 26 + base)\n",
    "    else:\n",
    "        result += ch\n",
    "\n",
    "print(result)\n"
   ]
  },
  {
   "cell_type": "markdown",
   "id": "c95e227f",
   "metadata": {},
   "source": [
    "## Exercise 33 — Palindrome Check"
   ]
  },
  {
   "cell_type": "code",
   "execution_count": null,
   "id": "badb8f8e",
   "metadata": {},
   "outputs": [],
   "source": [
    "s = input(\"Enter string: \")\n",
    "cleaned = ''.join(ch.lower() for ch in s if ch.isalnum())\n",
    "if cleaned == cleaned[::-1]:\n",
    "    print(\"Palindrome\")\n",
    "else:\n",
    "    print(\"Not a palindrome\")\n"
   ]
  },
  {
   "cell_type": "markdown",
   "id": "3ed11589",
   "metadata": {},
   "source": [
    "## Exercise 34 — Decimal to Binary"
   ]
  },
  {
   "cell_type": "code",
   "execution_count": null,
   "id": "244461ec",
   "metadata": {},
   "outputs": [],
   "source": [
    "n = int(input(\"Enter integer: \"))\n",
    "print(bin(n)[2:])\n"
   ]
  },
  {
   "cell_type": "markdown",
   "id": "729fde6f",
   "metadata": {},
   "source": [
    "## Exercise 35 — Filter Odd Numbers"
   ]
  },
  {
   "cell_type": "code",
   "execution_count": null,
   "id": "528eb679",
   "metadata": {},
   "outputs": [],
   "source": [
    "s = input(\"Enter numbers (comma separated): \")\n",
    "nums = [int(x.strip()) for x in s.split(',') if x.strip()]\n",
    "odd = [str(x) for x in nums if x % 2 == 1]\n",
    "print(','.join(odd))\n"
   ]
  },
  {
   "cell_type": "markdown",
   "id": "d9b03cd6",
   "metadata": {},
   "source": [
    "## Exercise 36 — Sort Numbers"
   ]
  },
  {
   "cell_type": "code",
   "execution_count": null,
   "id": "f1421886",
   "metadata": {},
   "outputs": [],
   "source": [
    "nums = []\n",
    "while True:\n",
    "    s = input(\"Enter integer (0 to finish): \")\n",
    "    try:\n",
    "        v = int(s)\n",
    "    except:\n",
    "        print(\"Invalid\")\n",
    "        continue\n",
    "    if v == 0:\n",
    "        break\n",
    "    nums.append(v)\n",
    "nums.sort()\n",
    "for x in nums:\n",
    "    print(x)\n"
   ]
  },
  {
   "cell_type": "markdown",
   "id": "b7ae85db",
   "metadata": {},
   "source": [
    "## Exercise 37 — Unique Words in Order"
   ]
  },
  {
   "cell_type": "code",
   "execution_count": null,
   "id": "96bc5d3c",
   "metadata": {},
   "outputs": [],
   "source": [
    "seen = set()\n",
    "order = []\n",
    "print(\"Enter words or lines (blank line to finish):\")\n",
    "while True:\n",
    "    line = input().strip()\n",
    "    if line == '':\n",
    "        break\n",
    "    for w in line.split():\n",
    "        if w not in seen:\n",
    "            seen.add(w)\n",
    "            order.append(w)\n",
    "for w in order:\n",
    "    print(w)\n"
   ]
  },
  {
   "cell_type": "markdown",
   "id": "1011465e",
   "metadata": {},
   "source": [
    "## Exercise 38 — Reorder Negative, Zero, Positive"
   ]
  },
  {
   "cell_type": "code",
   "execution_count": null,
   "id": "e83954b9",
   "metadata": {},
   "outputs": [],
   "source": [
    "lst = []\n",
    "print(\"Enter integers (blank line to finish):\")\n",
    "while True:\n",
    "    s = input().strip()\n",
    "    if s == '':\n",
    "        break\n",
    "    lst.append(int(s))\n",
    "\n",
    "neg = [x for x in lst if x < 0]\n",
    "zero = [x for x in lst if x == 0]\n",
    "pos = [x for x in lst if x > 0]\n",
    "out = neg + zero + pos\n",
    "print(','.join(str(x) for x in out))\n"
   ]
  },
  {
   "cell_type": "markdown",
   "id": "92de830d",
   "metadata": {},
   "source": [
    "## Exercise 39 — Dictionary of Squares (repeat)"
   ]
  },
  {
   "cell_type": "code",
   "execution_count": null,
   "id": "1edf6e3e",
   "metadata": {},
   "outputs": [],
   "source": [
    "n = int(input(\"Enter n: \"))\n",
    "d = {i: i*i for i in range(1, n+1)}\n",
    "print(d)\n"
   ]
  },
  {
   "cell_type": "markdown",
   "id": "bc0cac1e",
   "metadata": {},
   "source": [
    "## Exercise 40 — Tuple Split in Half"
   ]
  },
  {
   "cell_type": "code",
   "execution_count": null,
   "id": "816583d1",
   "metadata": {},
   "outputs": [],
   "source": [
    "t = (1,2,3,4,5,6,7,8,9,10)\n",
    "half = len(t)//2\n",
    "print(t[:half])\n",
    "print(t[half:])\n"
   ]
  },
  {
   "cell_type": "markdown",
   "id": "63c00a37",
   "metadata": {},
   "source": [
    "## Exercise 41 — Even Numbers in Tuple"
   ]
  },
  {
   "cell_type": "code",
   "execution_count": null,
   "id": "aaef5cbe",
   "metadata": {},
   "outputs": [],
   "source": [
    "t = (1,2,3,4,5,6,7,8,9,10)\n",
    "evens = tuple(x for x in t if x % 2 == 0)\n",
    "print(evens)\n"
   ]
  },
  {
   "cell_type": "markdown",
   "id": "c6c3e7d5",
   "metadata": {},
   "source": [
    "## Exercise 42 — Factorial (math library)"
   ]
  },
  {
   "cell_type": "code",
   "execution_count": null,
   "id": "a594ff46",
   "metadata": {},
   "outputs": [],
   "source": [
    "import math\n",
    "n = int(input(\"Enter number: \"))\n",
    "print(math.factorial(n))\n"
   ]
  },
  {
   "cell_type": "markdown",
   "id": "ccbf7857",
   "metadata": {},
   "source": [
    "## Exercise 43 — Repeat Exercise 24"
   ]
  },
  {
   "cell_type": "code",
   "execution_count": null,
   "id": "af214631",
   "metadata": {},
   "outputs": [],
   "source": [
    "a = input(\"Enter first string: \")\n",
    "b = input(\"Enter second string: \")\n",
    "\n",
    "if len(a) > len(b):\n",
    "    print(\"Longer string:\", a)\n",
    "elif len(b) > len(a):\n",
    "    print(\"Longer string:\", b)\n",
    "else:\n",
    "    print(a)\n",
    "    print(b)\n"
   ]
  },
  {
   "cell_type": "markdown",
   "id": "6147dc0c",
   "metadata": {},
   "source": [
    "## Exercise 44 "
   ]
  },
  {
   "cell_type": "code",
   "execution_count": null,
   "id": "6a024c44",
   "metadata": {},
   "outputs": [],
   "source": [
    "squares = [i**2 for i in range(1, 21)]\n",
    "print(squares)\n"
   ]
  },
  {
   "cell_type": "markdown",
   "id": "45b881c9",
   "metadata": {},
   "source": [
    "## Exercise 45 — First 5 Squares"
   ]
  },
  {
   "cell_type": "code",
   "execution_count": null,
   "id": "6e6919ba",
   "metadata": {},
   "outputs": [],
   "source": [
    "squares = [i**2 for i in range(1, 21)]\n",
    "print(squares[:5])\n"
   ]
  },
  {
   "cell_type": "markdown",
   "id": "3c1a5056",
   "metadata": {},
   "source": [
    "## Exercise 46 — Last 5 Squares"
   ]
  },
  {
   "cell_type": "code",
   "execution_count": null,
   "id": "86c1e0fc",
   "metadata": {},
   "outputs": [],
   "source": [
    "squares = [i**2 for i in range(1, 21)]\n",
    "print(squares[-5:])\n"
   ]
  },
  {
   "cell_type": "markdown",
   "id": "e8b11b58",
   "metadata": {},
   "source": [
    "## Exercise 47 — Squares except First 5"
   ]
  },
  {
   "cell_type": "code",
   "execution_count": null,
   "id": "78a9e26d",
   "metadata": {},
   "outputs": [],
   "source": [
    "squares = [i**2 for i in range(1, 21)]\n",
    "print(squares[5:])\n"
   ]
  },
  {
   "cell_type": "markdown",
   "id": "97b43064",
   "metadata": {},
   "source": [
    "## Exercise 48 — Average of Three"
   ]
  },
  {
   "cell_type": "code",
   "execution_count": null,
   "id": "ee558fba",
   "metadata": {},
   "outputs": [],
   "source": [
    "a = float(input(\"a = \"))\n",
    "b = float(input(\"b = \"))\n",
    "c = float(input(\"c = \"))\n",
    "print((a + b + c) / 3)\n"
   ]
  },
  {
   "cell_type": "markdown",
   "id": "f1ed5288",
   "metadata": {},
   "source": [
    "## Exercise 49 — Prime Check"
   ]
  },
  {
   "cell_type": "code",
   "execution_count": null,
   "id": "6256af58",
   "metadata": {},
   "outputs": [],
   "source": [
    "import math\n",
    "n = int(input(\"Enter integer: \"))\n",
    "if n <= 1:\n",
    "    print(\"Not prime\")\n",
    "else:\n",
    "    for i in range(2, int(math.sqrt(n)) + 1):\n",
    "        if n % i == 0:\n",
    "            print(\"Not prime\")\n",
    "            break\n",
    "    else:\n",
    "        print(\"Prime number\")\n"
   ]
  },
  {
   "cell_type": "markdown",
   "id": "1f909ddd",
   "metadata": {},
   "source": [
    "## Exercise 50 — Random Password"
   ]
  },
  {
   "cell_type": "code",
   "execution_count": null,
   "id": "65403c5c",
   "metadata": {},
   "outputs": [],
   "source": [
    "import random\n",
    "length = random.randint(7, 10)\n",
    "pwd = ''.join(chr(random.randint(33, 126)) for _ in range(length))\n",
    "print(pwd)\n"
   ]
  },
  {
   "cell_type": "markdown",
   "id": "cfd1e7c3",
   "metadata": {},
   "source": [
    "## Exercise 51 — Password Strength Check"
   ]
  },
  {
   "cell_type": "code",
   "execution_count": null,
   "id": "66df2978",
   "metadata": {},
   "outputs": [],
   "source": [
    "pwd = input(\"Enter password: \")\n",
    "ok = len(pwd) >= 8 and any(c.isupper() for c in pwd) and any(c.islower() for c in pwd) and any(c.isdigit() for c in pwd)\n",
    "print(\"Good password\" if ok else \"Not good password\")\n"
   ]
  },
  {
   "cell_type": "markdown",
   "id": "e9c0cb1b",
   "metadata": {},
   "source": [
    "## Exercise 52 — Perfect Numbers"
   ]
  },
  {
   "cell_type": "code",
   "execution_count": null,
   "id": "aca7d7ec",
   "metadata": {},
   "outputs": [],
   "source": [
    "import math\n",
    "def is_perfect(n):\n",
    "    if n <= 1:\n",
    "        return False\n",
    "    s = 1\n",
    "    for i in range(2, int(math.sqrt(n)) + 1):\n",
    "        if n % i == 0:\n",
    "            s += i\n",
    "            if i != n // i:\n",
    "                s += n // i\n",
    "    return s == n\n",
    "\n",
    "perfects = [i for i in range(1, 10001) if is_perfect(i)]\n",
    "print(perfects)\n"
   ]
  },
  {
   "cell_type": "markdown",
   "id": "abe7d8d5",
   "metadata": {},
   "source": [
    "## Exercise 53 — List Subsets"
   ]
  },
  {
   "cell_type": "code",
   "execution_count": null,
   "id": "403514a9",
   "metadata": {},
   "outputs": [],
   "source": [
    "s = input(\"Enter items (comma separated): \")\n",
    "lst = [x.strip() for x in s.split(',') if x.strip()]\n",
    "res = [[]]\n",
    "for x in lst:\n",
    "    res += [r + [x] for r in res]\n",
    "print(res)\n"
   ]
  },
  {
   "cell_type": "markdown",
   "id": "f6864a2e",
   "metadata": {},
   "source": [
    "## Exercise 54 — Join Words with 'and'"
   ]
  },
  {
   "cell_type": "code",
   "execution_count": null,
   "id": "1fb73e24",
   "metadata": {},
   "outputs": [],
   "source": [
    "s = input(\"Enter words (comma separated): \")\n",
    "words = [w.strip() for w in s.split(',') if w.strip()]\n",
    "if len(words) == 0:\n",
    "    print('')\n",
    "elif len(words) == 1:\n",
    "    print(words[0])\n",
    "else:\n",
    "    print(', '.join(words[:-1]) + ' and ' + words[-1])\n"
   ]
  },
  {
   "cell_type": "markdown",
   "id": "0d0feef5",
   "metadata": {},
   "source": [
    "## Exercise 55 — Zip Compress/Extract"
   ]
  },
  {
   "cell_type": "code",
   "execution_count": null,
   "id": "3bcf864d",
   "metadata": {},
   "outputs": [],
   "source": [
    "import zipfile, os\n",
    "mode = input(\"Enter 'c' to compress files or 'x' to extract: \").lower()\n",
    "if mode == 'c':\n",
    "    files = [f.strip() for f in input(\"Enter files to add (comma separated): \").split(',') if f.strip()]\n",
    "    zipname = input(\"Enter output zip filename: \")\n",
    "    with zipfile.ZipFile(zipname, 'w') as z:\n",
    "        for f in files:\n",
    "            if os.path.exists(f):\n",
    "                z.write(f)\n",
    "            else:\n",
    "                print(f\"Skipping non-existent file: {f}\")\n",
    "    print(\"Done.\")\n",
    "elif mode == 'x':\n",
    "    zipname = input(\"Enter zip filename to extract: \")\n",
    "    dest = input(\"Destination folder (default '.'): \") or '.'\n",
    "    with zipfile.ZipFile(zipname, 'r') as z:\n",
    "        z.extractall(dest)\n",
    "    print(\"Done.\")\n",
    "else:\n",
    "    print(\"Unknown mode.\")\n"
   ]
  }
 ],
 "metadata": {
  "kernelspec": {
   "display_name": "Python 3",
   "language": "python",
   "name": "python3"
  },
  "language_info": {
   "codemirror_mode": {
    "name": "ipython",
    "version": 3
   },
   "file_extension": ".py",
   "mimetype": "text/x-python",
   "name": "python",
   "nbconvert_exporter": "python",
   "pygments_lexer": "ipython3",
   "version": "3.13.2"
  }
 },
 "nbformat": 4,
 "nbformat_minor": 5
}
