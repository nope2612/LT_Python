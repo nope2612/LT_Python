{
 "cells": [
  {
   "cell_type": "code",
   "execution_count": null,
   "id": "35935ade-a37e-4128-8499-a9f262699fb4",
   "metadata": {},
   "outputs": [],
   "source": [
    "\"\"\"\n",
    "Bài 1. Viết chương trình nhập vào một chuỗi\n",
    "Xuất ra màn hình chuỗi ký tự hoa\n",
    "Xuất ra màn hình chuỗi ký tự có ký tự đầu là ký tự hoa\n",
    "Xuất ra màn hình chuỗi ký tự thường\n",
    "\"\"\"\n"
   ]
  },
  {
   "cell_type": "code",
   "execution_count": null,
   "id": "9d2f01df-e2a9-4b2c-8cc6-fc4b9af2cdce",
   "metadata": {},
   "outputs": [],
   "source": [
    "st = input(\"Enter your string:\")\n",
    "st_upper = st.upper()\n",
    "st_lower = st.lower()\n",
    "st_title = st.title()\n",
    "\n",
    "print(\"A Upper String is: \" + st_upper)\n",
    "print(\"A Lower String is : \" + st_lower)\n",
    "print(\"A Title String is : \" + st_title)"
   ]
  },
  {
   "cell_type": "code",
   "execution_count": null,
   "id": "98e97b62-9325-4274-80fe-98c384875cbc",
   "metadata": {},
   "outputs": [],
   "source": [
    "'''\n",
    "Bài 2. Cho chuỗi biểu diễn địa chỉ email:   \" minhnhutvh@gmail.com\" \n",
    "Rút trích và hiển thị chuỗi \"gmail.com\" (Đây chính là  tên Host)\n",
    "'''"
   ]
  },
  {
   "cell_type": "code",
   "execution_count": null,
   "id": "2208cd36-d314-4927-9fb5-55bc689b501e",
   "metadata": {},
   "outputs": [],
   "source": [
    "data = \"minhnhutvh@gmail.com\"\n",
    "position = data.find(\"@\")               \n",
    "host = data[position +1 :]\n",
    "print(host)\n"
   ]
  },
  {
   "cell_type": "code",
   "execution_count": null,
   "id": "2411f1dd-bada-4dc7-90be-d5b14be8685d",
   "metadata": {},
   "outputs": [],
   "source": [
    "'''\n",
    "Bài 3. Cho chuỗi biểu diễn:  \n",
    "        ‘minhnhutvh@gmai.com Sat Jan 5 09:14:16’\n",
    "Rút trích và hiển thị chuỗi “gmail.com”\n",
    "'''"
   ]
  },
  {
   "cell_type": "code",
   "execution_count": null,
   "id": "c60f43e5-e0ba-4f2f-be62-a3df3ed218a8",
   "metadata": {},
   "outputs": [],
   "source": [
    "data = \"minhnhutvh@gmail.com Sat Jan 5 09:14:16\"\n",
    "Start_position = data.find(\"@\")                #  10\n",
    "End_position = data.find(\" \", Start_position)  #  26\n",
    "host = data[Start_position +1 : End_position]\n",
    "print(host)\n"
   ]
  },
  {
   "cell_type": "code",
   "execution_count": null,
   "id": "4a1b2728-50bc-488b-9e8d-db3b27daf173",
   "metadata": {},
   "outputs": [],
   "source": [
    "''' Những bài thực hành còn lại. Sinh viên tự làm'''"
   ]
  },
  {
   "cell_type": "code",
   "execution_count": null,
   "id": "d7e501cf-58a4-4d4d-bc28-6c8d4b93ce7a",
   "metadata": {},
   "outputs": [],
   "source": [
    "'bài 4'"
   ]
  },
  {
   "cell_type": "code",
   "execution_count": null,
   "id": "b7b6b859-4396-4618-b66a-d6b6e70192c3",
   "metadata": {},
   "outputs": [],
   "source": [
    "st1 = input(\"Enter your string: \")\n",
    "st2 = input(\" Enter the word that needs to replace: \")\n",
    "st3 = input(\" Enter the word after being replaced: \")\n",
    "\n",
    "st1 = st1.replace(st2,st3)\n",
    "print(st1)\n"
   ]
  },
  {
   "cell_type": "code",
   "execution_count": null,
   "id": "885799b4",
   "metadata": {},
   "outputs": [],
   "source": [
    "'bài 5'\n",
    "st = input('Enter your string: ')\n",
    "First_five_characters = st[:5]\n",
    "Last_five_characters = st[len(st)-5:]\n",
    "Str_1_line = 4 * (st + \" \")\n",
    "Str_4_line = 4 * (st + \"\\n\")\n",
    "\n",
    "print(\"First five characters are: \" + First_five_characters)\n",
    "print(\"Last five characters are: \" + Last_five_characters)\n",
    "print(\"Four strings of one line are: \" + Str_1_line)\n",
    "print(\"Four strings of four line are: \\n\" + Str_4_line)\n"
   ]
  },
  {
   "cell_type": "code",
   "execution_count": 4,
   "id": "88a5645f",
   "metadata": {},
   "outputs": [
    {
     "name": "stdout",
     "output_type": "stream",
     "text": [
      "Thể tích hình trụ là: 75.39822368615503\n"
     ]
    }
   ],
   "source": [
    "from math import *\n",
    "\n",
    "'bài 6'\n",
    "r = float(input(\"Nhập bán kính mặt đáy r: \"))\n",
    "h = float(input(\"Nhập chiều cao h: \"))\n",
    "V = pi * r ** 2 * h\n",
    "print(\"Thể tích hình trụ là:\", V)"
   ]
  },
  {
   "cell_type": "code",
   "execution_count": 12,
   "id": "8e0a482f",
   "metadata": {},
   "outputs": [
    {
     "name": "stdout",
     "output_type": "stream",
     "text": [
      "Diện tích tam giác theo công thức 1/2abSin(C): 6.0\n",
      "Diện tích tam giác theo công thức 1/2acSin(B): 6.495190528383289\n",
      "Diện tích tam giác theo công thức 1/2bcSin(A): 4.999999999999999\n"
     ]
    }
   ],
   "source": [
    "'bài 7'\n",
    "# Chuyển các góc từ độ sang radian trước khi tính diện tích\n",
    "A_rad = radians(A)\n",
    "B_rad = radians(B)\n",
    "C_rad = radians(C)\n",
    "\n",
    "S1 = 0.5 * a * b * sin(C_rad)\n",
    "S2 = 0.5 * a * c * sin(B_rad)\n",
    "S3 = 0.5 * b * c * sin(A_rad)\n",
    "\n",
    "print(\"Diện tích tam giác theo công thức 1/2abSin(C):\", S1)\n",
    "print(\"Diện tích tam giác theo công thức 1/2acSin(B):\", S2)\n",
    "print(\"Diện tích tam giác theo công thức 1/2bcSin(A):\", S3)\n"
   ]
  },
  {
   "cell_type": "code",
   "execution_count": null,
   "id": "cdc88d8a",
   "metadata": {},
   "outputs": [],
   "source": [
    "'bài 8'\n",
    "a = float(input(\"Nhập cạnh tam giác đều: \"))\n",
    "S = (a ** 2 * sqrt(3)) / 4\n",
    "print(\"Diện tích tam giác đều là:\", S)\n"
   ]
  },
  {
   "cell_type": "code",
   "execution_count": null,
   "id": "07552755",
   "metadata": {},
   "outputs": [],
   "source": [
    "'bài 9 '\n"
   ]
  },
  {
   "cell_type": "code",
   "execution_count": null,
   "id": "e402153a",
   "metadata": {},
   "outputs": [],
   "source": [
    "'bài 10'\n",
    "width = float(input(\"Nhập chiều rộng của căn phòng: \"))\n",
    "length = float(input(\"Nhập chiều dài của căn phòng: \"))\n",
    "area = width * length\n",
    "print(\"Diện tích căn phòng là:\", area)"
   ]
  },
  {
   "cell_type": "code",
   "execution_count": null,
   "id": "0ac23f3c",
   "metadata": {},
   "outputs": [],
   "source": [
    "# bài 11\n",
    "width = float(input(\"Nhập chiều rộng của cánh đồng (mét): \"))\n",
    "length = float(input(\"Nhập chiều dài của cánh đồng (mét): \"))\n",
    "area_m2 = width * length\n",
    "area_acre = area_m2 / 43560\n",
    "print(\"Diện tích cánh đồng là:\", area_acre, \"Mẫu Anh\")"
   ]
  },
  {
   "cell_type": "code",
   "execution_count": null,
   "id": "41174e30",
   "metadata": {},
   "outputs": [],
   "source": [
    "# bài 12\n",
    "meal_cost = float(input(\"Nhập chi phí của bữa ăn: \"))\n",
    "tax = meal_cost * 0.05\n",
    "tip = meal_cost * 0.18\n",
    "total = meal_cost + tax + tip\n",
    "\n",
    "print(f\"Tiền bữa ăn: {meal_cost:.2f}\")\n",
    "print(f\"Thuế: {tax:.2f}\")\n",
    "print(f\"Tiền boa: {tip:.2f}\")\n",
    "print(f\"Tổng cộng: {total:.2f}\")"
   ]
  },
  {
   "cell_type": "code",
   "execution_count": 8,
   "id": "55e80e87",
   "metadata": {},
   "outputs": [
    {
     "name": "stdout",
     "output_type": "stream",
     "text": [
      "Tổng các số nguyên từ 1 đến 10 là: 55\n"
     ]
    }
   ],
   "source": [
    "# bài 13\n",
    "n = int(input(\"Nhập số nguyên dương n: \"))\n",
    "total = n * (n + 1) // 2    \n",
    "print(\"Tổng các số nguyên từ 1 đến\", n, \"là:\", total)"
   ]
  },
  {
   "cell_type": "code",
   "execution_count": null,
   "id": "a661f826",
   "metadata": {},
   "outputs": [],
   "source": [
    "# bài 14\n",
    "a = int(input(\"Nhập số nguyên a: \"))\n",
    "b = int(input(\"Nhập số nguyên b: \"))\n",
    "\n",
    "print(\"Tổng của a và b:\", a + b)\n",
    "print(\"Hiệu của a và b:\", a - b)\n",
    "print(\"Tích của a và b:\", a * b)\n",
    "print(\"Thương của a chia cho b:\", a / b if b != 0 else \"Không thể chia cho 0\")\n",
    "print(\"Phần còn lại khi a chia cho b:\", a % b if b != 0 else \"Không thể chia cho 0\")\n",
    "print(\"Kết quả của log_10a:\", log10(a) if a > 0 else \"a phải lớn hơn 0\")\n",
    "print(\"Kết quả của a^b:\", pow(a, b))"
   ]
  },
  {
   "cell_type": "code",
   "execution_count": 4,
   "id": "9ed9bf38",
   "metadata": {},
   "outputs": [
    {
     "name": "stdout",
     "output_type": "stream",
     "text": [
      "Năng lượng cần thiết: 1255.80 Joules\n",
      "Chi phí để làm nóng nước: 0.0031 cent\n"
     ]
    }
   ],
   "source": [
    "# bài 15\n",
    "M = float(input(\"Nhập khối lượng nước (gram): \"))\n",
    "delta_T = float(input(\"Nhập sự thay đổi nhiệt độ ΔT (°C): \"))\n",
    "C = 4.186  # nhiệt dung riêng của nước (J/g°C)\n",
    "\n",
    "Q = M * C * delta_T\n",
    "print(f\"Năng lượng cần thiết: {Q:.2f} Joules\")\n",
    "\n",
    "# Đổi Joules sang kWh\n",
    "Q_kWh = Q * 2.777e-7\n",
    "\n",
    "# Chi phí tính theo 8,9 cent mỗi kWh\n",
    "cost = Q_kWh * 8.9\n",
    "\n",
    "print(f\"Chi phí để làm nóng nước: {cost:.4f} cent\")"
   ]
  },
  {
   "cell_type": "code",
   "execution_count": 3,
   "id": "c3783a15",
   "metadata": {},
   "outputs": [
    {
     "name": "stdout",
     "output_type": "stream",
     "text": [
      "Tốc độ của vật khi chạm đất là: 14.00 m/s\n"
     ]
    }
   ],
   "source": [
    "# bài 16\n",
    "from math import sqrt\n",
    "height = float(input(\"Nhập chiều cao thả vật (m): \"))\n",
    "g = 9.8  # gia tốc trọng trường (m/s^2)\n",
    "v_i = 0  # tốc độ ban đầu (m/s)\n",
    "\n",
    "v_f = sqrt(v_i ** 2 + 2 * g * height)\n",
    "print(f\"Tốc độ của vật khi chạm đất là: {v_f:.2f} m/s\")"
   ]
  },
  {
   "cell_type": "code",
   "execution_count": 5,
   "id": "2c6f6111",
   "metadata": {},
   "outputs": [
    {
     "name": "stdout",
     "output_type": "stream",
     "text": [
      "Chỉ số gió lạnh là: 33\n"
     ]
    }
   ],
   "source": [
    "# bài 17\n",
    "Ta = float(input(\"Nhập nhiệt độ không khí (°C): \"))\n",
    "V = float(input(\"Nhập tốc độ gió (km/h): \"))\n",
    "\n",
    "WCI = 13.12 + 0.6215 * Ta - 11.37 * V ** 0.16 + 0.3965 * Ta * V ** 0.16\n",
    "print(\"Chỉ số gió lạnh là:\", round(WCI))"
   ]
  }
 ],
 "metadata": {
  "kernelspec": {
   "display_name": "Python 3",
   "language": "python",
   "name": "python3"
  },
  "language_info": {
   "codemirror_mode": {
    "name": "ipython",
    "version": 3
   },
   "file_extension": ".py",
   "mimetype": "text/x-python",
   "name": "python",
   "nbconvert_exporter": "python",
   "pygments_lexer": "ipython3",
   "version": "3.13.0"
  }
 },
 "nbformat": 4,
 "nbformat_minor": 5
}
